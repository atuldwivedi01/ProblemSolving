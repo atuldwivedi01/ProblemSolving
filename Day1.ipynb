{
  "nbformat": 4,
  "nbformat_minor": 0,
  "metadata": {
    "colab": {
      "name": "Day1.ipynb",
      "provenance": [],
      "authorship_tag": "ABX9TyP2QWP008CzxBJSShsPgd42",
      "include_colab_link": true
    },
    "kernelspec": {
      "name": "python3",
      "display_name": "Python 3"
    },
    "language_info": {
      "name": "python"
    }
  },
  "cells": [
    {
      "cell_type": "markdown",
      "metadata": {
        "id": "view-in-github",
        "colab_type": "text"
      },
      "source": [
        "<a href=\"https://colab.research.google.com/github/atuldwivedi01/ProblemSolving/blob/main/Day1.ipynb\" target=\"_parent\"><img src=\"https://colab.research.google.com/assets/colab-badge.svg\" alt=\"Open In Colab\"/></a>"
      ]
    },
    {
      "cell_type": "markdown",
      "source": [
        "Count Digits in Number"
      ],
      "metadata": {
        "id": "IxJaR1NQStuX"
      }
    },
    {
      "cell_type": "code",
      "execution_count": 7,
      "metadata": {
        "id": "IpHaRC6VSkhz"
      },
      "outputs": [],
      "source": [
        "import math\n",
        "def countDigit(n):\n",
        "  return math.floor(math.log10(n)+1)"
      ]
    },
    {
      "cell_type": "code",
      "source": [
        "countDigit(343223323232323)"
      ],
      "metadata": {
        "colab": {
          "base_uri": "https://localhost:8080/"
        },
        "id": "ZNDs1au9S-Re",
        "outputId": "1fe3e85c-f5d0-4730-f42a-de651c37934c"
      },
      "execution_count": 9,
      "outputs": [
        {
          "output_type": "execute_result",
          "data": {
            "text/plain": [
              "15"
            ]
          },
          "metadata": {},
          "execution_count": 9
        }
      ]
    },
    {
      "cell_type": "markdown",
      "source": [
        "Factorial of A Number"
      ],
      "metadata": {
        "id": "uL8xiEaFTcDR"
      }
    },
    {
      "cell_type": "code",
      "source": [
        "def factorial(n):\n",
        "  res=1\n",
        "  for i in range(2,n+1):\n",
        "    res=res*i\n",
        "  return res"
      ],
      "metadata": {
        "id": "ELgUXcTKTHO0"
      },
      "execution_count": 10,
      "outputs": []
    },
    {
      "cell_type": "code",
      "source": [
        "factorial(5)"
      ],
      "metadata": {
        "colab": {
          "base_uri": "https://localhost:8080/"
        },
        "id": "kOHrjlrbTmw2",
        "outputId": "4e656ab5-4c4f-4a20-9d76-e808a313edc4"
      },
      "execution_count": 11,
      "outputs": [
        {
          "output_type": "execute_result",
          "data": {
            "text/plain": [
              "120"
            ]
          },
          "metadata": {},
          "execution_count": 11
        }
      ]
    },
    {
      "cell_type": "markdown",
      "source": [
        "Number of digits in Factorial"
      ],
      "metadata": {
        "id": "I2YsKeppTpxg"
      }
    },
    {
      "cell_type": "markdown",
      "source": [
        "- Method 1"
      ],
      "metadata": {
        "id": "sZkD5Aj3UYgN"
      }
    },
    {
      "cell_type": "code",
      "source": [
        "def countDigitInFactorial(n):\n",
        "  return countDigit(factorial(n))"
      ],
      "metadata": {
        "id": "nnI0sUB4ToJE"
      },
      "execution_count": 14,
      "outputs": []
    },
    {
      "cell_type": "code",
      "source": [
        "countDigitInFactorial(5)"
      ],
      "metadata": {
        "colab": {
          "base_uri": "https://localhost:8080/"
        },
        "id": "xjdd1J7DUDeg",
        "outputId": "c99b94a4-02aa-4119-83a2-604ee84122f6"
      },
      "execution_count": 15,
      "outputs": [
        {
          "output_type": "execute_result",
          "data": {
            "text/plain": [
              "3"
            ]
          },
          "metadata": {},
          "execution_count": 15
        }
      ]
    },
    {
      "cell_type": "markdown",
      "source": [
        "- Method 2"
      ],
      "metadata": {
        "id": "ZjdokNlvUpI6"
      }
    },
    {
      "cell_type": "code",
      "source": [
        "def countDigitInFactorial(n):\n",
        "  res=0\n",
        "  for i in range(2,n+1):\n",
        "    res=res+math.log10(i)\n",
        "  return math.floor(res)+1"
      ],
      "metadata": {
        "id": "I-FYhge4UnHk"
      },
      "execution_count": 16,
      "outputs": []
    },
    {
      "cell_type": "code",
      "source": [
        "countDigitInFactorial(5)"
      ],
      "metadata": {
        "colab": {
          "base_uri": "https://localhost:8080/"
        },
        "id": "MW6oujAjU2sr",
        "outputId": "41dbe887-c48b-48b8-dcf3-beb9d8cf6e22"
      },
      "execution_count": 17,
      "outputs": [
        {
          "output_type": "execute_result",
          "data": {
            "text/plain": [
              "3"
            ]
          },
          "metadata": {},
          "execution_count": 17
        }
      ]
    },
    {
      "cell_type": "markdown",
      "source": [
        "Trailing Zeros in Factorial"
      ],
      "metadata": {
        "id": "_sw31d2mXgHh"
      }
    },
    {
      "cell_type": "code",
      "source": [
        "def trailingZerosFactorial(n):\n",
        "  res=0\n",
        "  i=5\n",
        "  while(i<=n):\n",
        "    res=res+(n//i)\n",
        "    i=i*5\n",
        "  return res"
      ],
      "metadata": {
        "id": "JjsXgG18U4tk"
      },
      "execution_count": 38,
      "outputs": []
    },
    {
      "cell_type": "code",
      "source": [
        "trailingZerosFactorial(1000)"
      ],
      "metadata": {
        "colab": {
          "base_uri": "https://localhost:8080/"
        },
        "id": "MAK-ULFJXePh",
        "outputId": "fa25957b-fc68-4001-f578-ec3cdcb37f47"
      },
      "execution_count": 39,
      "outputs": [
        {
          "output_type": "execute_result",
          "data": {
            "text/plain": [
              "249"
            ]
          },
          "metadata": {},
          "execution_count": 39
        }
      ]
    },
    {
      "cell_type": "code",
      "source": [
        "# factorial(1000)"
      ],
      "metadata": {
        "id": "85Hd4xy2YOXW"
      },
      "execution_count": 40,
      "outputs": []
    },
    {
      "cell_type": "code",
      "source": [
        ""
      ],
      "metadata": {
        "id": "IG9-fzkwYTUp"
      },
      "execution_count": 31,
      "outputs": []
    },
    {
      "cell_type": "code",
      "source": [
        ""
      ],
      "metadata": {
        "id": "5WUjdagYd-vH"
      },
      "execution_count": null,
      "outputs": []
    },
    {
      "cell_type": "code",
      "source": [
        ""
      ],
      "metadata": {
        "id": "09ULXsoed-3R"
      },
      "execution_count": null,
      "outputs": []
    },
    {
      "cell_type": "code",
      "source": [
        ""
      ],
      "metadata": {
        "id": "utvvrXSQaH9A"
      },
      "execution_count": 31,
      "outputs": []
    },
    {
      "cell_type": "code",
      "source": [
        ""
      ],
      "metadata": {
        "id": "htSq6Dr3aVUW"
      },
      "execution_count": null,
      "outputs": []
    }
  ]
}